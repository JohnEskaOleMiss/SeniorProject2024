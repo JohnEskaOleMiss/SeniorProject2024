{
  "cells": [
    {
      "cell_type": "code",
      "execution_count": null,
      "metadata": {
        "colab": {
          "base_uri": "https://localhost:8080/"
        },
        "id": "abiINfp-BoxY",
        "outputId": "536d54b6-e688-4edb-9eff-bed430347ce9"
      },
      "outputs": [
        {
          "output_type": "stream",
          "name": "stdout",
          "text": [
            "Requirement already satisfied: openai in /usr/local/lib/python3.10/dist-packages (1.54.4)\n",
            "Requirement already satisfied: anyio<5,>=3.5.0 in /usr/local/lib/python3.10/dist-packages (from openai) (3.7.1)\n",
            "Requirement already satisfied: distro<2,>=1.7.0 in /usr/local/lib/python3.10/dist-packages (from openai) (1.9.0)\n",
            "Requirement already satisfied: httpx<1,>=0.23.0 in /usr/local/lib/python3.10/dist-packages (from openai) (0.27.2)\n",
            "Requirement already satisfied: jiter<1,>=0.4.0 in /usr/local/lib/python3.10/dist-packages (from openai) (0.7.1)\n",
            "Requirement already satisfied: pydantic<3,>=1.9.0 in /usr/local/lib/python3.10/dist-packages (from openai) (2.9.2)\n",
            "Requirement already satisfied: sniffio in /usr/local/lib/python3.10/dist-packages (from openai) (1.3.1)\n",
            "Requirement already satisfied: tqdm>4 in /usr/local/lib/python3.10/dist-packages (from openai) (4.66.6)\n",
            "Requirement already satisfied: typing-extensions<5,>=4.11 in /usr/local/lib/python3.10/dist-packages (from openai) (4.12.2)\n",
            "Requirement already satisfied: idna>=2.8 in /usr/local/lib/python3.10/dist-packages (from anyio<5,>=3.5.0->openai) (3.10)\n",
            "Requirement already satisfied: exceptiongroup in /usr/local/lib/python3.10/dist-packages (from anyio<5,>=3.5.0->openai) (1.2.2)\n",
            "Requirement already satisfied: certifi in /usr/local/lib/python3.10/dist-packages (from httpx<1,>=0.23.0->openai) (2024.8.30)\n",
            "Requirement already satisfied: httpcore==1.* in /usr/local/lib/python3.10/dist-packages (from httpx<1,>=0.23.0->openai) (1.0.7)\n",
            "Requirement already satisfied: h11<0.15,>=0.13 in /usr/local/lib/python3.10/dist-packages (from httpcore==1.*->httpx<1,>=0.23.0->openai) (0.14.0)\n",
            "Requirement already satisfied: annotated-types>=0.6.0 in /usr/local/lib/python3.10/dist-packages (from pydantic<3,>=1.9.0->openai) (0.7.0)\n",
            "Requirement already satisfied: pydantic-core==2.23.4 in /usr/local/lib/python3.10/dist-packages (from pydantic<3,>=1.9.0->openai) (2.23.4)\n"
          ]
        }
      ],
      "source": [
        "!pip install openai\n",
        "from openai import OpenAI\n",
        "import openai\n",
        "import pandas as pd\n",
        "import re\n",
        "from time import sleep\n",
        "import numpy as np\n",
        "import json\n",
        "\n",
        "#openAI api phishing analysis\n",
        "def openAI():\n",
        "  print(\"OpenAI\\n\")\n",
        "  #get api key\n",
        "  input_file = 'OpenAIAPIKey.json'\n",
        "  with open(input_file, 'r') as file:\n",
        "      data = json.load(file)\n",
        "  key = data['key']\n",
        "\n",
        "  df = pd.read_csv(\"test_data_openai.csv\")\n",
        "\n",
        "  #set up api connection\n",
        "  api_key = key\n",
        "  client = OpenAI(api_key=api_key)\n",
        "\n",
        "  labels = []\n",
        "  emails = \"\"\n",
        "  counter = 0\n",
        "  expected = \"\"\n",
        "  for i in range(len(df)):\n",
        "    #Phishing_Email\n",
        "    email = str(df['Email Text'][i])\n",
        "    labels.append(df['Email Type'][i])\n",
        "\n",
        "    completion = client.chat.completions.create(\n",
        "      model=\"gpt-4o-mini\",\n",
        "      messages=[\n",
        "          {\"role\": \"user\", \"content\": f\"Determine if this email is phishing or safe. If an email is phishing respond with a 1, if it is safe respond with a 0.  Do not use any words. Here it is: {email}\"}\n",
        "      ]\n",
        "    )\n",
        "    expected += completion.choices[0].message.content\n",
        "    emails = \"\"\n",
        "\n",
        "\n",
        "  expectarray = []\n",
        "  for char in expected:\n",
        "      if char == '1':\n",
        "          expectarray.append(1)\n",
        "      elif char == '0':\n",
        "          expectarray.append(0)\n",
        "\n",
        "  actual = []\n",
        "  for i in range(len(labels)):\n",
        "    label = labels[i]\n",
        "    if(label == \"Safe Email\"):\n",
        "      actual.append(0)\n",
        "    else:\n",
        "      actual.append(1)\n",
        "\n",
        "  true_positive = 0\n",
        "  false_positive = 0\n",
        "  true_negative = 0\n",
        "  false_negative = 0\n",
        "  for i in range(len(actual)):\n",
        "    try:\n",
        "      if actual[i] == expectarray[i]:\n",
        "          if actual[i] == 1:\n",
        "              true_positive += 1\n",
        "          else:\n",
        "              true_negative += 1\n",
        "      else:\n",
        "          if actual[i] == 1:\n",
        "              false_negative += 1\n",
        "          else:\n",
        "              false_positive += 1\n",
        "    except IndexError:\n",
        "      print(i)\n",
        "\n",
        "  confusion_matrix = np.array([[true_negative, false_positive],\n",
        "                                [false_negative, true_positive]])\n",
        "\n",
        "  print(\"Confusion Matrix:\")\n",
        "  print(confusion_matrix)\n",
        "\n",
        "  accuracy2 = (true_positive + true_negative) / len(actual) if len(actual) > 0 else 0\n",
        "  precision = true_positive / (true_positive + false_positive) if (true_positive + false_positive) > 0 else 0\n",
        "  recall = true_positive / (true_positive + false_negative) if (true_positive + false_negative) > 0 else 0\n",
        "\n",
        "  print(\"Accuracy:\", accuracy2)\n",
        "  print(\"Precision:\", precision)\n",
        "  print(\"Recall:\", recall)\n"
      ]
    },
    {
      "cell_type": "code",
      "execution_count": null,
      "metadata": {
        "colab": {
          "base_uri": "https://localhost:8080/"
        },
        "id": "Ie3LfbSzCbgr",
        "outputId": "bb256960-d2c0-4989-9cb7-f13d82127471"
      },
      "outputs": [
        {
          "output_type": "stream",
          "name": "stdout",
          "text": [
            "OpenAI\n",
            "\n",
            "6970\n",
            "6971\n",
            "Confusion Matrix:\n",
            "[[1329 2156]\n",
            " [1084 2401]]\n",
            "Accuracy: 0.5349971313826736\n",
            "Precision: 0.5268817204301075\n",
            "Recall: 0.6889526542324247\n"
          ]
        }
      ],
      "source": [
        "def main():\n",
        "  openAI()\n",
        "\n",
        "if __name__ == \"__main__\":\n",
        "  main()"
      ]
    }
  ],
  "metadata": {
    "colab": {
      "provenance": []
    },
    "kernelspec": {
      "display_name": "Python 3",
      "name": "python3"
    },
    "language_info": {
      "name": "python"
    }
  },
  "nbformat": 4,
  "nbformat_minor": 0
}